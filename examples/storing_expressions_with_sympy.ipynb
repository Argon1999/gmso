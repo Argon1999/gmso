{
 "cells": [
  {
   "cell_type": "code",
   "execution_count": 1,
   "metadata": {},
   "outputs": [],
   "source": [
    "import sympy\n",
    "from sympy.functions import exp\n",
    "\n",
    "sympy.init_printing()"
   ]
  },
  {
   "cell_type": "markdown",
   "metadata": {},
   "source": [
    "`sympy` is a library for symbolic math. We can define variables and expressions and operate on them, evaluate them, compare them, etc."
   ]
  },
  {
   "cell_type": "code",
   "execution_count": 2,
   "metadata": {},
   "outputs": [
    {
     "data": {
      "image/png": "[encoded data removed]",
      "text/latex": [
       "$$4 \\epsilon \\left(- \\frac{\\sigma^{6}}{r^{6}} + \\frac{\\sigma^{12}}{r^{12}}\\right)$$"
      ],
      "text/plain": [
       "    ⎛   6    12⎞\n",
       "    ⎜  σ    σ  ⎟\n",
       "4⋅ε⋅⎜- ── + ───⎟\n",
       "    ⎜   6    12⎟\n",
       "    ⎝  r    r  ⎠"
      ]
     },
     "execution_count": 2,
     "metadata": {},
     "output_type": "execute_result"
    }
   ],
   "source": [
    "epsilon, sigma, r  = sympy.symbols('epsilon sigma r')\n",
    "lj = 4*epsilon*((sigma/r)**12 - (sigma/r)**6)\n",
    "lj"
   ]
  },
  {
   "cell_type": "markdown",
   "metadata": {},
   "source": [
    "`sympy` can simplify expressions and compare for equality. For example, we can write out a Lennard-Jones potential in a different manner, but check to see that it simplifies down to the same form"
   ]
  },
  {
   "cell_type": "code",
   "execution_count": 3,
   "metadata": {},
   "outputs": [
    {
     "data": {
      "image/png": "[encoded data removed]",
      "text/latex": [
       "$$\\frac{4 \\epsilon \\sigma^{6} \\left(-1 + \\frac{\\sigma^{6}}{r^{6}}\\right)}{r^{6}}$$"
      ],
      "text/plain": [
       "       ⎛      6⎞\n",
       "     6 ⎜     σ ⎟\n",
       "4⋅ε⋅σ ⋅⎜-1 + ──⎟\n",
       "       ⎜      6⎟\n",
       "       ⎝     r ⎠\n",
       "────────────────\n",
       "        6       \n",
       "       r        "
      ]
     },
     "execution_count": 3,
     "metadata": {},
     "output_type": "execute_result"
    }
   ],
   "source": [
    "lj_alt = 4*epsilon*((sigma/r)**6*((sigma/r)**6 - 1))\n",
    "lj_alt"
   ]
  },
  {
   "cell_type": "code",
   "execution_count": 4,
   "metadata": {},
   "outputs": [
    {
     "data": {
      "text/plain": [
       "True"
      ]
     },
     "execution_count": 4,
     "metadata": {},
     "output_type": "execute_result"
    }
   ],
   "source": [
    "lj.simplify() == lj_alt.simplify()"
   ]
  },
  {
   "cell_type": "markdown",
   "metadata": {},
   "source": [
    "Any potential that can be written as an algebraic expression can be respresented by `sympy` and stored in our systems."
   ]
  },
  {
   "cell_type": "code",
   "execution_count": 5,
   "metadata": {},
   "outputs": [
    {
     "data": {
      "image/png": "[encoded data removed]",
      "text/latex": [
       "$$a e^{- \\frac{b}{r}} - \\frac{c}{r^{6}}$$"
      ],
      "text/plain": [
       "   -b      \n",
       "   ───     \n",
       "    r    c \n",
       "a⋅ℯ    - ──\n",
       "          6\n",
       "         r "
      ]
     },
     "execution_count": 5,
     "metadata": {},
     "output_type": "execute_result"
    }
   ],
   "source": [
    "a, b, c = sympy.symbols('a b c')\n",
    "buck = a*exp(-b/r) - c/r**6\n",
    "buck"
   ]
  },
  {
   "cell_type": "code",
   "execution_count": 6,
   "metadata": {},
   "outputs": [
    {
     "data": {
      "image/png": "[encoded data removed]",
      "text/latex": [
       "$$k \\left(\\theta - \\theta_{0}\\right)^{2}$$"
      ],
      "text/plain": [
       "          2\n",
       "k⋅(θ - θ₀) "
      ]
     },
     "execution_count": 6,
     "metadata": {},
     "output_type": "execute_result"
    }
   ],
   "source": [
    "k, theta, theta0 = sympy.symbols('k theta theta0')\n",
    "harm = k * (theta - theta0) ** 2\n",
    "harm"
   ]
  },
  {
   "cell_type": "markdown",
   "metadata": {},
   "source": [
    "These expressions are implemented as attributes of an `AtomType` class with an associated `.parameters` attribute."
   ]
  },
  {
   "cell_type": "code",
   "execution_count": 7,
   "metadata": {},
   "outputs": [],
   "source": [
    "from topology.core.atom_type import AtomType"
   ]
  },
  {
   "cell_type": "code",
   "execution_count": 8,
   "metadata": {},
   "outputs": [],
   "source": [
    "atom_type = AtomType()"
   ]
  },
  {
   "cell_type": "code",
   "execution_count": 9,
   "metadata": {},
   "outputs": [
    {
     "data": {
      "image/png": "[encoded data removed]",
      "text/latex": [
       "$$4 \\epsilon \\left(- \\frac{\\sigma^{6}}{r^{6}} + \\frac{\\sigma^{12}}{r^{12}}\\right)$$"
      ],
      "text/plain": [
       "    ⎛   6    12⎞\n",
       "    ⎜  σ    σ  ⎟\n",
       "4⋅ε⋅⎜- ── + ───⎟\n",
       "    ⎜   6    12⎟\n",
       "    ⎝  r    r  ⎠"
      ]
     },
     "execution_count": 9,
     "metadata": {},
     "output_type": "execute_result"
    }
   ],
   "source": [
    "atom_type.nb_function"
   ]
  },
  {
   "cell_type": "code",
   "execution_count": 10,
   "metadata": {},
   "outputs": [
    {
     "data": {
      "text/plain": [
       "{'sigma': 1, 'epsilon': 100}"
      ]
     },
     "execution_count": 10,
     "metadata": {},
     "output_type": "execute_result"
    }
   ],
   "source": [
    "atom_type.parameters"
   ]
  },
  {
   "cell_type": "markdown",
   "metadata": {},
   "source": [
    "Each are mutable, so we can modify them as we wish."
   ]
  },
  {
   "cell_type": "code",
   "execution_count": 11,
   "metadata": {},
   "outputs": [
    {
     "ename": "ValueError",
     "evalue": "NB function and parameter symbols do not agree, extraneous symbols: {r}",
     "output_type": "error",
     "traceback": [
      "\u001b[0;31m---------------------------------------------------------------------------\u001b[0m",
      "\u001b[0;31mValueError\u001b[0m                                Traceback (most recent call last)",
      "\u001b[0;32m<ipython-input-11-2d0f434d96f8>\u001b[0m in \u001b[0;36m<module>\u001b[0;34m()\u001b[0m\n\u001b[0;32m----> 1\u001b[0;31m \u001b[0matom_type\u001b[0m\u001b[0;34m.\u001b[0m\u001b[0mset_nb_function\u001b[0m\u001b[0;34m(\u001b[0m\u001b[0mfunction\u001b[0m\u001b[0;34m=\u001b[0m\u001b[0;34m'4*epsilon*((sigma/r)**12 - (sigma/r)**6)'\u001b[0m\u001b[0;34m,\u001b[0m \u001b[0mparameters\u001b[0m\u001b[0;34m=\u001b[0m\u001b[0;34m{\u001b[0m\u001b[0;34m'sigma'\u001b[0m\u001b[0;34m:\u001b[0m \u001b[0;36m1\u001b[0m\u001b[0;34m,\u001b[0m \u001b[0;34m'epsilon'\u001b[0m\u001b[0;34m:\u001b[0m \u001b[0;36m1\u001b[0m\u001b[0;34m}\u001b[0m\u001b[0;34m)\u001b[0m\u001b[0;34m\u001b[0m\u001b[0;34m\u001b[0m\u001b[0m\n\u001b[0m",
      "\u001b[0;32m~/software/topology/topology/core/atom_type.py\u001b[0m in \u001b[0;36mset_nb_function\u001b[0;34m(self, function, parameters)\u001b[0m\n\u001b[1;32m    118\u001b[0m             \u001b[0mself\u001b[0m\u001b[0;34m.\u001b[0m\u001b[0m_parameters\u001b[0m\u001b[0;34m.\u001b[0m\u001b[0mupdate\u001b[0m\u001b[0;34m(\u001b[0m\u001b[0mparameters\u001b[0m\u001b[0;34m)\u001b[0m\u001b[0;34m\u001b[0m\u001b[0;34m\u001b[0m\u001b[0m\n\u001b[1;32m    119\u001b[0m \u001b[0;34m\u001b[0m\u001b[0m\n\u001b[0;32m--> 120\u001b[0;31m         \u001b[0mself\u001b[0m\u001b[0;34m.\u001b[0m\u001b[0m_validate_function_parameters\u001b[0m\u001b[0;34m(\u001b[0m\u001b[0;34m)\u001b[0m\u001b[0;34m\u001b[0m\u001b[0;34m\u001b[0m\u001b[0m\n\u001b[0m\u001b[1;32m    121\u001b[0m \u001b[0;34m\u001b[0m\u001b[0m\n\u001b[1;32m    122\u001b[0m     \u001b[0;32mdef\u001b[0m \u001b[0m_validate_function_parameters\u001b[0m\u001b[0;34m(\u001b[0m\u001b[0mself\u001b[0m\u001b[0;34m)\u001b[0m\u001b[0;34m:\u001b[0m\u001b[0;34m\u001b[0m\u001b[0;34m\u001b[0m\u001b[0m\n",
      "\u001b[0;32m~/software/topology/topology/core/atom_type.py\u001b[0m in \u001b[0;36m_validate_function_parameters\u001b[0;34m(self)\u001b[0m\n\u001b[1;32m    140\u001b[0m                              \u001b[0;34m\" symbols do not agree,\"\u001b[0m\u001b[0;34m\u001b[0m\u001b[0;34m\u001b[0m\u001b[0m\n\u001b[1;32m    141\u001b[0m                              \u001b[0;34m\" extraneous symbols:\"\u001b[0m\u001b[0;34m\u001b[0m\u001b[0;34m\u001b[0m\u001b[0m\n\u001b[0;32m--> 142\u001b[0;31m                              \" {}\".format(extra_syms))\n\u001b[0m\u001b[1;32m    143\u001b[0m \u001b[0;34m\u001b[0m\u001b[0m\n\u001b[1;32m    144\u001b[0m     \u001b[0;32mdef\u001b[0m \u001b[0m__eq__\u001b[0m\u001b[0;34m(\u001b[0m\u001b[0mself\u001b[0m\u001b[0;34m,\u001b[0m \u001b[0mother\u001b[0m\u001b[0;34m)\u001b[0m\u001b[0;34m:\u001b[0m\u001b[0;34m\u001b[0m\u001b[0;34m\u001b[0m\u001b[0m\n",
      "\u001b[0;31mValueError\u001b[0m: NB function and parameter symbols do not agree, extraneous symbols: {r}"
     ]
    }
   ],
   "source": [
    "atom_type.set_nb_function(function='4*epsilon*((sigma/r)**12 - (sigma/r)**6)', parameters={'sigma': 1, 'epsilon': 1})"
   ]
  },
  {
   "cell_type": "code",
   "execution_count": null,
   "metadata": {},
   "outputs": [],
   "source": []
  }
 ],
 "metadata": {
  "kernelspec": {
   "display_name": "Python 3",
   "language": "python",
   "name": "python3"
  },
  "language_info": {
   "codemirror_mode": {
    "name": "ipython",
    "version": 3
   },
   "file_extension": ".py",
   "mimetype": "text/x-python",
   "name": "python",
   "nbconvert_exporter": "python",
   "pygments_lexer": "ipython3",
   "version": "3.6.8"
  }
 },
 "nbformat": 4,
 "nbformat_minor": 2
}
