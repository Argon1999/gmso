{
 "cells": [
  {
   "cell_type": "code",
   "execution_count": null,
   "metadata": {},
   "outputs": [],
   "source": [
    "!conda install --file env.txt --yes"
   ]
  },
  {
   "cell_type": "markdown",
   "metadata": {},
   "source": [
    "This example requires LAMMPS. You can install it from source or conda via `conda install -c conda-forge lammps`.\n",
    "You also need to `pip install -e` the topology package after February 14, 2020, when PR #121 was merged."
   ]
  },
  {
   "cell_type": "code",
   "execution_count": null,
   "metadata": {},
   "outputs": [],
   "source": [
    "import warnings\n",
    "warnings.filterwarnings('ignore')\n",
    "\n",
    "import mbuild as mb\n",
    "import topology as topo\n",
    "from topology.external.convert_mbuild import from_mbuild\n",
    "from topology.formats.lammpsdata import write_lammpsdata"
   ]
  },
  {
   "cell_type": "code",
   "execution_count": null,
   "metadata": {},
   "outputs": [],
   "source": [
    "# Generate a small box of Argon atoms using mBuild\n",
    "ar = mb.Compound(name='Ar')\n",
    "\n",
    "packed_system = mb.fill_box(\n",
    "    compound=ar,\n",
    "    n_compounds=100,\n",
    "    box=mb.Box([3, 3, 3]),\n",
    ")\n",
    "\n",
    "packed_system.visualize()"
   ]
  },
  {
   "cell_type": "code",
   "execution_count": null,
   "metadata": {},
   "outputs": [],
   "source": [
    "# Convert system to a backend object\n",
    "top = from_mbuild(packed_system)\n",
    "\n",
    "# Load force field from XML\n",
    "ff = topo.ForceField('ar.xml')\n",
    "ar_type = ff.atom_types['Ar']\n",
    "\n",
    "# Manually set types, bypassing foyer or any atomtyping engine\n",
    "for site in top.sites:\n",
    "    site.atom_type = ar_type\n",
    "\n",
    "top.update_topology()\n",
    "\n",
    "# Save files to disk\n",
    "write_lammpsdata(top, 'data.ar')"
   ]
  },
  {
   "cell_type": "markdown",
   "metadata": {},
   "source": [
    "Next, we run the simulations (energy minimizaiton and then NVE MD) using LAMMPS"
   ]
  },
  {
   "cell_type": "code",
   "execution_count": null,
   "metadata": {},
   "outputs": [],
   "source": [
    "!lmp_serial < in.ar"
   ]
  },
  {
   "cell_type": "markdown",
   "metadata": {},
   "source": [
    "Finally we can use `panedr` to do some quick checks of the properties of the system"
   ]
  },
  {
   "cell_type": "code",
   "execution_count": null,
   "metadata": {},
   "outputs": [],
   "source": [
    "import panedr\n",
    "import matplotlib.pyplot as plt"
   ]
  },
  {
   "cell_type": "code",
   "execution_count": null,
   "metadata": {},
   "outputs": [],
   "source": [
    "df = panedr.edr_to_df('nve.edr')\n",
    "df.describe()"
   ]
  },
  {
   "cell_type": "code",
   "execution_count": null,
   "metadata": {},
   "outputs": [],
   "source": [
    "plt.plot(df['Time'], df['Potential'])"
   ]
  },
  {
   "cell_type": "code",
   "execution_count": null,
   "metadata": {},
   "outputs": [],
   "source": [
    "plt.plot(df['Time'], df['Temperature'])"
   ]
  }
 ],
 "metadata": {
  "kernelspec": {
   "display_name": "Python 3",
   "language": "python",
   "name": "python3"
  },
  "language_info": {
   "codemirror_mode": {
    "name": "ipython",
    "version": 3
   },
   "file_extension": ".py",
   "mimetype": "text/x-python",
   "name": "python",
   "nbconvert_exporter": "python",
   "pygments_lexer": "ipython3",
   "version": "3.6.8"
  }
 },
 "nbformat": 4,
 "nbformat_minor": 4
}
